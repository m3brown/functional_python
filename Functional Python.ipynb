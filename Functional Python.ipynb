{
 "cells": [
  {
   "cell_type": "code",
   "execution_count": null,
   "metadata": {},
   "outputs": [],
   "source": [
    "!pip install pyeffects"
   ]
  },
  {
   "cell_type": "markdown",
   "metadata": {},
   "source": [
    "## What is functional programming?\n",
    "\n",
    "> Functional programming ( FP ) is based on a simple premise with far-reaching implications: we construct our programs using only pure functions—in other words, functions that have no side effects. What are side effects? A function has a side effect if it\n",
    "does something other than simply return a result, for example:\n",
    "\n",
    "- Modifying a variable\n",
    "- Modifying a data structure in place\n",
    "- Setting a field on an object\n",
    "- Throwing an exception or halting with an error\n",
    "- Printing to the console or reading user input\n",
    "- Reading from or writing to a file\n",
    "- Drawing on the screen"
   ]
  },
  {
   "cell_type": "markdown",
   "metadata": {},
   "source": [
    "## What is referential transparency?\n",
    "\n",
    "> An expression e is referentially transparent if, for all programs p, all occurrences of e in p can be replaced by the result of evaluating e without affecting the meaning of p. A function f is pure if the expression f(x) is referentially transparent for all referentially transparent x.\n"
   ]
  },
  {
   "cell_type": "code",
   "execution_count": null,
   "metadata": {},
   "outputs": [],
   "source": [
    "from typing import List\n",
    "\n",
    "def add_numbers(numbers: List[int]) -> int:\n",
    "    sum = 0\n",
    "    for n in numbers:\n",
    "        sum = sum + n\n",
    "    return sum\n",
    "\n",
    "add_numbers([1, 5, 6, 8])"
   ]
  },
  {
   "cell_type": "code",
   "execution_count": null,
   "metadata": {},
   "outputs": [],
   "source": [
    "from typing import List\n",
    "\n",
    "def add_numbers(numbers: List[int]) -> int:\n",
    "    # if sum = 0, we should be able to replace sum on the RHS with 0 and get the same result\n",
    "    sum = 0\n",
    "    for n in numbers:\n",
    "        sum = 0 + n\n",
    "    return sum\n",
    "\n",
    "add_numbers([1, 5, 6, 8])"
   ]
  },
  {
   "cell_type": "code",
   "execution_count": null,
   "metadata": {},
   "outputs": [],
   "source": [
    "# Exercise: Re-write w/o using state"
   ]
  },
  {
   "cell_type": "markdown",
   "metadata": {},
   "source": [
    "## Dealing with Emptiness: Option"
   ]
  },
  {
   "cell_type": "code",
   "execution_count": null,
   "metadata": {},
   "outputs": [],
   "source": [
    "from pyeffects.Option import *\n",
    "    \n",
    "class Name:\n",
    "    def __init__(self, first_name: str = None, last_name: str = None):\n",
    "        self.first_name = first_name\n",
    "        self.last_name = last_name\n",
    "    \n",
    "    def get_last_name(self) -> Option:\n",
    "        return Option.of(self.last_name)\n",
    "        \n",
    "    def get_first_name(self) -> Option:\n",
    "        return Option.of(self.first_name)\n",
    "        \n",
    "\n",
    "class Parent:\n",
    "    def __init__(self, name: Name = None, relationship: str = \"mother\"):\n",
    "        self.name = name\n",
    "        self.relationship = relationship\n",
    "        \n",
    "    def get_name(self) -> Option:\n",
    "        return Option.of(self.name)\n",
    "        \n",
    "class Child:\n",
    "    def __init__(self, name: Name = None, mother: Parent = None, father: Parent = None):\n",
    "        self.name = name\n",
    "        self.mother = mother\n",
    "        self.father = father\n",
    "        \n",
    "    def get_name(self) -> Option:\n",
    "        return Option.of(self.name)\n",
    "        \n",
    "    def get_father(self) -> Option:\n",
    "        return Option.of(self.father)\n",
    "        \n",
    "    def get_mother(self) -> Option:\n",
    "        return Option.of(self.mother)"
   ]
  },
  {
   "cell_type": "code",
   "execution_count": null,
   "metadata": {},
   "outputs": [],
   "source": [
    "def get_mothers_first_name(child: Child) -> str:\n",
    "    if child and child.mother and child.mother.name:\n",
    "        return child.mother.name.first_name\n",
    "    else:\n",
    "        return None\n",
    "    \n",
    "c = Child(\"child 1\", Parent(Name(\"Mom\", \"1\"), \"mother\"), Parent(Name(\"Dad\", \"1\"), \"father\"))\n",
    "\n",
    "get_mothers_first_name(c)"
   ]
  },
  {
   "cell_type": "code",
   "execution_count": null,
   "metadata": {},
   "outputs": [],
   "source": [
    "def get_mothers_first_name2(child: Child) -> str:\n",
    "    return child.get_mother()\\\n",
    "        .flat_map(Parent.get_name)\\\n",
    "        .flat_map(Name.get_first_name)\\\n",
    "        .get_or_else(\"No name\")\n",
    "    \n",
    "c = Child(\"child 1\", Parent(Name(\"Mom\", \"Mother\"), \"mother\"), Parent(Name(\"Dad\", \"Father\"), \"father\"))\n",
    "c1 = Child(\"child 2\")\n",
    "# get_mothers_first_name2(c)\n",
    "get_mothers_first_name2(c1)"
   ]
  },
  {
   "cell_type": "markdown",
   "metadata": {},
   "source": [
    "## Dealing with Exceptions: Try"
   ]
  },
  {
   "cell_type": "code",
   "execution_count": null,
   "metadata": {},
   "outputs": [],
   "source": [
    "c1_str = \"\"\"\n",
    "{\n",
    "  \"name\": {\n",
    "      \"first_name\": \"1st\",\n",
    "      \"last_name\": \"Child\"\n",
    "  },\n",
    "  \"mother\": {\n",
    "      \"name\": {\n",
    "          \"first_name\": \"Mother\",\n",
    "          \"last_name\": \"1\"\n",
    "      }\n",
    "  }\n",
    "}\n",
    "\"\"\"\n",
    "\n",
    "# c2_str = \"\"\"\n",
    "# {\n",
    "#   \"name\": {\n",
    "#       \"first_name\": \"1st\",\n",
    "#       \"last_name\": \"Child\"\n",
    "#   },\n",
    "#   \"mother\": {\n",
    "#       \"name\": {\n",
    "#           \"first_name_wrong\": \"Mother\",\n",
    "#           \"last_name\": \"1\"\n",
    "#       }\n",
    "#   }\n",
    "# }\n",
    "# \"\"\""
   ]
  },
  {
   "cell_type": "code",
   "execution_count": null,
   "metadata": {},
   "outputs": [],
   "source": [
    "import json\n",
    "\n",
    "def load_name(name_dict: dict) -> Name:\n",
    "    try:\n",
    "        n = Name(**name_dict)\n",
    "        return n\n",
    "    except TypeError as te:\n",
    "        raise TypeError(\"Couldn't deserialize Name: \" + str(te))\n",
    "\n",
    "def load_parent_obj(parent_dict: dict, relationship: str) -> Parent:\n",
    "    n = None\n",
    "    if 'name' in parent_dict:\n",
    "        n = load_name(parent_dict['name'])\n",
    "    return Parent(name = n, relationship = relationship)\n",
    "        \n",
    "def load_child_obj(json_str: str) -> Child:\n",
    "    attributes = json.loads(json_str)\n",
    "    n, m, f = (None, None, None)\n",
    "    if 'name' in attributes:\n",
    "        n = load_name(attributes['name'])\n",
    "    if 'mother' in attributes:\n",
    "        m = load_parent_obj(attributes['mother'], 'mother')\n",
    "    if 'father' in attributes:\n",
    "        f = load_parent_obj(attributes['father'], 'father')\n",
    "    return Child(n, m, f)\n",
    "\n",
    "c1 = load_child_obj(c1_str)\n",
    "c1.mother.name.first_name\n",
    "\n",
    "# c2 = load_child_obj(c2_str)"
   ]
  },
  {
   "cell_type": "code",
   "execution_count": null,
   "metadata": {},
   "outputs": [],
   "source": [
    "import json\n",
    "\n",
    "from pyeffects.Try import *\n",
    "\n",
    "def load_name(name_dict: dict) -> Try:\n",
    "    return Try.of(lambda: Name(**name_dict['name']))\n",
    "\n",
    "def load_parent_obj(parent_dict: dict, relationship: str) -> Parent:\n",
    "    return load_name(parent_dict)\\\n",
    "        .map(lambda n: Parent(name = n, relationship = relationship))\\\n",
    "        .get_or_else(Parent(relationship = relationship))\n",
    "        \n",
    "def load_child_obj(json_str: str) -> Child:\n",
    "    attributes = json.loads(json_str)\n",
    "    n = load_name(attributes).get_or_else(None)\n",
    "    m = Try.of(lambda: load_parent_obj(attributes['mother'], 'mother')).get_or_else(None)\n",
    "    f = Try.of(lambda: load_parent_obj(attriutes['father'], 'father')).get_or_else(None)\n",
    "    return Child(n, m, f)\n",
    "\n",
    "c1 = load_child_obj(c1_str)\n",
    "c1.mother.name.first_name\n",
    "\n",
    "c2 = load_child_obj(c2_str)\n",
    "print(c2.mother.name)"
   ]
  },
  {
   "cell_type": "code",
   "execution_count": null,
   "metadata": {},
   "outputs": [],
   "source": []
  }
 ],
 "metadata": {
  "kernelspec": {
   "display_name": "Python 3",
   "language": "python",
   "name": "python3"
  },
  "language_info": {
   "codemirror_mode": {
    "name": "ipython",
    "version": 3
   },
   "file_extension": ".py",
   "mimetype": "text/x-python",
   "name": "python",
   "nbconvert_exporter": "python",
   "pygments_lexer": "ipython3",
   "version": "3.6.11"
  }
 },
 "nbformat": 4,
 "nbformat_minor": 4
}
